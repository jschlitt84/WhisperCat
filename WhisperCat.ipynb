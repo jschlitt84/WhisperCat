{
 "cells": [
  {
   "cell_type": "markdown",
   "metadata": {},
   "source": [
    "# WhisperCat: a python webscraper designed to enable early detection of quiet signals of catastrophic illness.\n",
    "James Schlitt 2015"
   ]
  },
  {
   "cell_type": "code",
   "execution_count": 1,
   "metadata": {
    "collapsed": false
   },
   "outputs": [],
   "source": [
    "from urllib import urlopen\n",
    "from time import sleep, strftime\n",
    "from copy import deepcopy\n",
    "from dateutil import parser\n",
    "from bs4 import BeautifulSoup\n",
    "from random import random\n",
    "from datetime import date, timedelta, datetime\n",
    "import cPickle\n",
    "import re\n",
    "\n",
    "#import networkx as nx\n",
    "import pandas as pd\n",
    "import numpy as np\n",
    "import seaborn as sb\n",
    "import collections as cl\n",
    "import itertools as it\n",
    "\n",
    "import matplotlib.pyplot as plt\n",
    "from matplotlib.dates import DateFormatter, date2num, num2date\n",
    "#matplotlib.style.use('ggplot')\n",
    "%matplotlib inline  \n",
    "\n",
    "delayGlobal = 0.3\n",
    "fluUrl = 'https://flutrackers.com/forum/'"
   ]
  },
  {
   "cell_type": "markdown",
   "metadata": {
    "collapsed": false
   },
   "source": [
    "## Basic text operations"
   ]
  },
  {
   "cell_type": "code",
   "execution_count": 2,
   "metadata": {
    "collapsed": false
   },
   "outputs": [],
   "source": [
    "def hideJunk(row):\n",
    "    \"\"\"Deletes non-meaningful junk to assist in checking row length\"\"\"\n",
    "    toDelete = ['\\t','</div>','\\r']\n",
    "    for entry in toDelete:\n",
    "        row = row.replace(entry,'')\n",
    "    while '  ' in row:\n",
    "        row = row.replace('  ',' ')\n",
    "    return row\n",
    "\n",
    "\n",
    "def clearJunk(row):\n",
    "    \"\"\"Removes text of no interest to user or parser\"\"\"\n",
    "    toDelete = ['\\t','\\r','&amp']\n",
    "    for entry in toDelete:\n",
    "        row = row.replace(entry,'')\n",
    "    while '  ' in row:\n",
    "        row = row.replace('  ',' ')\n",
    "    return row\n",
    "    \n",
    "    \n",
    "def goodRow(row):\n",
    "    \"\"\"Returns true if contents of row appear to be useful\"\"\"\n",
    "    toExclude = ['\"stylesheet\"','\"text/javascript\"']\n",
    "    notExcluded = len([entry for entry in toExclude if entry in row]) == 0\n",
    "    return len(hideJunk(row))>5 and notExcluded\n",
    "\n",
    "\n",
    "def findLines(rows,text):\n",
    "    \"\"\"Finds linesnumber containing a given string\"\"\"\n",
    "    text = text.lower()\n",
    "    return [i for i in range(len(rows)) if text in rows[i].lower()]"
   ]
  },
  {
   "cell_type": "markdown",
   "metadata": {
    "collapsed": false
   },
   "source": [
    "## Basic Content Extractors\n"
   ]
  },
  {
   "cell_type": "code",
   "execution_count": 3,
   "metadata": {
    "collapsed": false
   },
   "outputs": [],
   "source": [
    "def subjectFromLine(rows,line):\n",
    "    \"\"\"Finds a link subject in a line of html\"\"\"\n",
    "    try:\n",
    "        return rows[line].split('>')[1].split('<')[0]\n",
    "    except:\n",
    "        return ''\n",
    "    \n",
    "    \n",
    "def getLines(rows,marker):\n",
    "    \"\"\"Pulls all lines containing a given marker\"\"\"\n",
    "    return [line for line in sorted(findLines(rows,marker))]\n",
    "\n",
    "\n",
    "def getLinesContent(rows,marker):\n",
    "    \"\"\"Returns content from a row containing a given marker\"\"\"\n",
    "    return [rows[line] for line in sorted(findLines(rows,marker))]\n",
    "\n",
    "def linkFromLine(rows,line):\n",
    "    \"\"\"Finds a link in a line of html\"\"\"\n",
    "    try:\n",
    "        return [entry for entry in rows[line].split('\"') if 'http' in entry][0]\n",
    "    except:\n",
    "        return 'null'\n",
    "        \n",
    "        \n",
    "def getLinks(rows,lines,shift=1):\n",
    "    \"\"\"Pulls the links from a list of lines containing links\"\"\"\n",
    "    return [linkFromLine(rows,line+shift) for line in lines]\n",
    "\n",
    "\n",
    "def getTextLinks(rows):\n",
    "    \"\"\"Filters comment to list of embedded links from regular text\"\"\"\n",
    "    lines = getLines(rows,'http')\n",
    "    return getLinks(rows,lines,shift=0)\n",
    "\n",
    "\n",
    "def getSubjects(rows,lines,shift=1):\n",
    "    \"\"\"Pulls the subjects from a list of lines containing links\"\"\"\n",
    "    return [subjectFromLine(rows,line+shift) for line in lines]\n",
    "    \n",
    "    \n",
    "def hasThing(rows,marker):\n",
    "    \"\"\"Returns true if a list of html rows contains at least one with the marker\"\"\"\n",
    "    return len(getLines(rows,marker))!=0\n",
    "\n",
    "\n",
    "def getLineLinkTopic(rows,marker,shift):\n",
    "    \"\"\"Pulls lines, links, and topics together\"\"\"\n",
    "    lines = getLines(rows,marker)\n",
    "    links = getLinks(rows,lines,shift=shift)\n",
    "    topics = getSubjects(rows,lines,shift=shift)\n",
    "    return lines,links,topics          "
   ]
  },
  {
   "cell_type": "markdown",
   "metadata": {
    "collapsed": false,
    "scrolled": false
   },
   "source": [
    "##Web Data Entry Points"
   ]
  },
  {
   "cell_type": "code",
   "execution_count": 4,
   "metadata": {
    "collapsed": false,
    "scrolled": false
   },
   "outputs": [],
   "source": [
    "def getSub(rows,startString='null',endString='null',pad=0):\n",
    "    \"\"\"Filters rows of text by start and end strings\"\"\"\n",
    "    finalLine = len(rows)-1\n",
    "    if startString != 'null':\n",
    "        startLines = findLines(rows,startString)\n",
    "        try:\n",
    "            startLine = startLines[0]\n",
    "        except:\n",
    "            #print \"\\n\\nCould not find startString %s in text, returning 0\" % startString\n",
    "            startLine = 0\n",
    "    else:\n",
    "        startLine = 0\n",
    "    if endString != 'null':\n",
    "        endLines = findLines(rows,endString)\n",
    "        endLines = [row for row in endLines if row>=startLine]\n",
    "        if endLines == []:\n",
    "            endLine = finalLine\n",
    "        else:\n",
    "            endLine = endLines[0]\n",
    "    else:\n",
    "        endLine = finalLine\n",
    "    return rows[max(startLine-pad,0):min(endLine+pad,finalLine)]\n",
    "\n",
    "\n",
    "def getRows(url,startString='null',endString='null',pad=3,v=False):\n",
    "    \"\"\"Pulls rows of code from url between optional start and endstring containing rows\"\"\"\n",
    "    text = '/'.join(url.split('/')[-2:])+','\n",
    "    if v:\n",
    "        print text,\n",
    "        \n",
    "    tries = 0; done = False\n",
    "    html = \"\"\n",
    "    while not done and tries < 20:\n",
    "        try:\n",
    "            #print \"DEBOOF\", url\n",
    "            html = urlopen(url).read()\n",
    "            done = True\n",
    "        except:\n",
    "            tries += 1\n",
    "        if tries == 2:\n",
    "            print \"Can't pull, check your connection! Link:\\t%s\" % url\n",
    "        sleep(delayGlobal+random())\n",
    "    \n",
    "    lines = html.split('\\n')\n",
    "    lines = [clearJunk(line) for line in lines if goodRow(line)]\n",
    "    lines = getSub(lines,startString=startString,endString=endString,pad=pad)\n",
    "    return lines"
   ]
  },
  {
   "cell_type": "markdown",
   "metadata": {
    "collapsed": false,
    "scrolled": false
   },
   "source": [
    "## Main Forum Tree Puller"
   ]
  },
  {
   "cell_type": "code",
   "execution_count": 5,
   "metadata": {
    "collapsed": false,
    "scrolled": true
   },
   "outputs": [],
   "source": [
    "def getMainData(rows):\n",
    "    \"\"\"Discerns forum top level structure\"\"\"\n",
    "    marker='\"forum-info\"'\n",
    "    lines = getLines(rows,marker)\n",
    "    links = getLinks(rows,lines,shift=1)\n",
    "    topics = getSubjects(rows,lines,shift=1)\n",
    "    return {'lines':lines,\n",
    "           'links':links,\n",
    "           'topics':topics}\n",
    "\n",
    "\n",
    "def getMainTree(url,recurs=0,topic='main',v=True):\n",
    "    \"\"\"Creates flattened subtopic tree by recursively scraping forum\"\"\"\n",
    "    if v:\n",
    "        print \"Preparing tree pull for topic '%s', recursion level is %s\" % (topic,recurs)\n",
    "    recursive = recurs>0\n",
    "    (start,end,billy) = {False:('welcome to flutrackers','francophones des flutrackers',3),\n",
    "                         True:('null','null',0)}[recursive]\n",
    "    if type(url) is not list:\n",
    "        rows = getRows(url,\n",
    "                   startString=start,\n",
    "                   endString=end,\n",
    "                   pad=billy)\n",
    "    else:\n",
    "        rows=url\n",
    "    \n",
    "    mainData = getMainData(rows)\n",
    "    \n",
    "    subLines,subLinks,subTopics = getLineLinkTopic(rows,'\"subforum-info\"',2)\n",
    "    \n",
    "    numTopics = len(mainData['lines'])\n",
    "    numSubTopics = len(subTopics)\n",
    "    \n",
    "    lineIndex = mainData['lines']+[len(rows)+1]\n",
    "    tree = dict()\n",
    "    \n",
    "    for i in range(numTopics):\n",
    "        topic = mainData['topics'][i]\n",
    "        line = mainData['lines'][i]\n",
    "        line2 = lineIndex[i+1]\n",
    "        link = mainData['links'][i]\n",
    "        \n",
    "        tree[topic] = {'subtopics':{},\n",
    "                       'line':line,\n",
    "                       'link':link,\n",
    "                       'type':'topic'}\n",
    "    \n",
    "        subSubIndex = [j for j in range(numSubTopics) if subLines[j] >= line and subLines[j] <= line2]\n",
    "        numSubSubs = len(subSubIndex)\n",
    "        \n",
    "        #isHighTopic = not hasThing(getRows(link),\"topic-list-header\") and recurs == 0\n",
    "        #if isHighTopic or True:\n",
    "        if True:\n",
    "            subSubIndex += [-1]\n",
    "        \n",
    "        for index in subSubIndex:\n",
    "                if index != -1:\n",
    "                    subLink = subLinks[index]\n",
    "                    currentSub = subTopics[index]\n",
    "                    selfTopic = False\n",
    "                else:\n",
    "                    subLink = link\n",
    "                    currentSub = 'self'\n",
    "                    selfTopic = True\n",
    "                subRows = getRows(subLink)\n",
    "                hasSubForum = hasThing(subRows,'sub-forums')\n",
    "                \n",
    "                if selfTopic:\n",
    "                    pageType = 'topic'\n",
    "                elif hasSubForum:\n",
    "                    pageType = 'subForum'\n",
    "                else:\n",
    "                    pageType = 'topic'\n",
    "                    \n",
    "                if hasSubForum and not selfTopic:\n",
    "                    recurTree = getMainTree(subRows,recurs=recurs+1,topic=currentSub,v=v)\n",
    "                    for recTopic in recurTree.keys():\n",
    "                        newTopic = \"%s [lvl%s] %s\" % (currentSub,recurs+1,recTopic)\n",
    "                        newLine = recurTree[recTopic]['line']\n",
    "                        newLink = recurTree[recTopic]['link']\n",
    "                        newType = recurTree[recTopic]['type']\n",
    "                        tree[topic]['subtopics'][newTopic] = {'line':newLine,\n",
    "                                                                  'link':newLink,\n",
    "                                                                  'posts':{},\n",
    "                                                                  'type':newType}\n",
    "                tree[topic]['subtopics'][currentSub] = {'line':index,\n",
    "                                                                  'link':subLink,\n",
    "                                                                  'posts':{},\n",
    "                                                                  'type':pageType}\n",
    "                \n",
    "    if recurs == 0:\n",
    "        print \"\\nOPERATION COMPLETE!\"\n",
    "    return tree  \n"
   ]
  },
  {
   "cell_type": "markdown",
   "metadata": {
    "collapsed": true
   },
   "source": [
    "## Forum Specific Content Extractors\n"
   ]
  },
  {
   "cell_type": "code",
   "execution_count": 6,
   "metadata": {
    "collapsed": false
   },
   "outputs": [],
   "source": [
    "def getPageTotal(rows):\n",
    "    \"\"\"Finds number of pages for a thread or forum\"\"\"\n",
    "    marker = '<span class=\"pagetotal\">'\n",
    "    lines = getLines(rows,marker)\n",
    "    row = rows[lines[0]]\n",
    "    return int(row.split(marker)[1].split('<')[0])\n",
    "    \n",
    "    \n",
    "def matchOne(x,y,i,default='null'):\n",
    "    \"\"\"Finds first line in Y list of line refs after X[i]\"\"\"\n",
    "    try:\n",
    "        first = [entry for entry in y if entry >= x[i]][0]\n",
    "        if i != len(x)-1:\n",
    "            if x[i+1]<first:\n",
    "                return \"null\"\n",
    "        return first\n",
    "    except:\n",
    "        return \"null\"\n",
    "    \n",
    "\n",
    "def getDate(rows,line):\n",
    "    \"\"\"Extracts date from html row and converts to datetime object\"\"\"\n",
    "    if line == 'null':\n",
    "        return 'null'\n",
    "    if 'datetime=' in rows[line]:\n",
    "        return parser.parse(rows[line].split('datetime=\"')[1].split('\"')[0])\n",
    "    try:\n",
    "        dtstr = rows[line].split('date\">')[1].split('<')[0].lower()\n",
    "        dtstr = dtstr.replace('today',strftime(\"%d/%m/%Y\"))\n",
    "        dtstr = dtstr.replace('yesterday',(date.today()-timedelta(1)).strftime(\"%d/%m/%Y\"))\n",
    "        return parser.parse(dtstr)\n",
    "    except:\n",
    "        print \"Error: couldn't extract date from\",rows[line]\n",
    "        return 'null'\n",
    "\n",
    "\n",
    "        \n",
    "def getCount(rows,line):\n",
    "    \"\"\"Extracts integer count value\"\"\"\n",
    "    try:\n",
    "        return int(rows[line].split('count\">')[1].split(' ')[0].replace(',',''))\n",
    "    except:\n",
    "        return 'null'\n",
    "\n",
    "    \n",
    "def getText(rows,line):\n",
    "    \"\"\"Pulls comment html\"\"\"\n",
    "    endString = '<!-- REPLY -->'\n",
    "    kept = []; i = line+1; text = rows[i]\n",
    "    while endString not in text:\n",
    "        kept.append(text)\n",
    "        i += 1\n",
    "        text = rows[i]\n",
    "    return kept\n",
    "\n",
    "\n",
    "def cleanText(rows):\n",
    "    \"\"\"Filters comment html to regular text\"\"\"\n",
    "    text = '\\n'.join(BeautifulSoup('\\n'.join(rows)).findAll(text=True))\n",
    "    while '\\n\\n' in text:\n",
    "        text = text.replace('\\n\\n','\\n')\n",
    "    text = re.sub('<[^<]+?>', '', text)\n",
    "    #text.replace('\\x85','')\n",
    "    return text"
   ]
  },
  {
   "cell_type": "markdown",
   "metadata": {},
   "source": [
    "## Forum Text Scraper: rescursively pulls texts and meta data from comments"
   ]
  },
  {
   "cell_type": "code",
   "execution_count": 7,
   "metadata": {
    "collapsed": true
   },
   "outputs": [],
   "source": [
    "def prepPosts(rows,pageType='posts'):\n",
    "    \"\"\"Extracts organized metadata for storage and analysis\"\"\"\n",
    "    if pageType == 'posts':\n",
    "        blockLines = getLines(rows,'<!-- BEGIN: display_Topics_item -->')\n",
    "        \n",
    "        lineRefs = {'sticky':getLines(rows,'<span class=\"prefix\">Sticky: </span>'),\n",
    "             'link':getLines(rows,'<a href=\"https:'),\n",
    "             'creator':getLines(rows,'Started by <a href='),\n",
    "             'updated':[i+2 for i in getLines(rows,'<div class=\"lastpost-by\">')]+getLines(rows,'<time itemprop=\"dateCreated\"'),\n",
    "             'counts':getLines(rows,'<td class=\"cell-count\">')}\n",
    "        \n",
    "        prepped = dict()\n",
    "        \n",
    "        extractors = {'sticky':lambda rows,refs: refs['sticky'] != 'null',\n",
    "             'subject':lambda rows,refs: subjectFromLine(rows,refs['link']),\n",
    "             'link':lambda rows,refs: linkFromLine(rows,refs['link']),\n",
    "             'comments':lambda rows,refs: prepPosts(getRows(linkFromLine(rows,refs['link']),v=False),pageType='comments'),\n",
    "             'creator':lambda rows,refs: linkFromLine(rows,refs['creator']),\n",
    "             'created':lambda rows,refs: getDate(rows,refs['creator']),\n",
    "             'updated':lambda rows,refs: getDate(rows,refs['updated']),\n",
    "             'views':lambda rows,refs: getCount(rows,refs['counts']+2),\n",
    "             'votes':lambda rows,refs: getCount(rows,refs['counts']+3),\n",
    "             'posts':lambda rows,refs: getCount(rows,refs['counts']+1)}\n",
    "        \n",
    "    elif pageType == 'comments':\n",
    "        blockLines = getLines(rows,'<div class=\"userinfo b-userinfo b-post__hide-when-deleted\"')\n",
    "        \n",
    "        lineRefs = {'author':getLines(rows,'<div class=\"author h-text-size--14\"'),\n",
    "                    'created':getLines(rows,'<time itemprop=\"dateCreated\"'),\n",
    "                    'contentStart':getLines(rows,'<div class=\"js-post__content-text')}\n",
    "        \n",
    "        prepped = []\n",
    "        \n",
    "        extractors = {'author': lambda rows,refs: linkFromLine(rows,refs['author']),\n",
    "                     'created': lambda rows,refs: getDate(rows,refs['created']),\n",
    "                     'text': lambda rows,refs: cleanText(getText(rows,refs['contentStart'])),\n",
    "                     'links': lambda rows,refs: getTextLinks(getText(rows,refs['contentStart']))}\n",
    "        #'source:': lambda rows,refs: getText(rows,refs['contentStart']),\n",
    "    \n",
    "    matched = []\n",
    "    for i in range(len(blockLines)):\n",
    "        matches = dict((key,matchOne(blockLines,item,i)) for key,item in lineRefs.iteritems()) \n",
    "        matched.append(deepcopy(matches))\n",
    "        \n",
    "\n",
    "    if pageType == 'posts':\n",
    "        for match in matched:\n",
    "            try:\n",
    "                extracted = dict((key,fx(rows,match)) for key,fx in extractors.iteritems())\n",
    "            except:\n",
    "                print \"DEBOO PAGETYPE == POSTS\"\n",
    "                extracted = dict((key,fx(rows,match)) for key,fx in extractors.iteritems())\n",
    "            prepped[extracted['subject']] = deepcopy(extracted)\n",
    "            \n",
    "    elif pageType == 'comments':\n",
    "        for match in matched:\n",
    "            extracted = dict((key,fx(rows,match)) for key,fx in extractors.iteritems())\n",
    "            prepped.append(deepcopy(extracted))\n",
    "    \n",
    "    return prepped"
   ]
  },
  {
   "cell_type": "code",
   "execution_count": 8,
   "metadata": {
    "collapsed": true
   },
   "outputs": [],
   "source": [
    "def tryLinks(link,pageType='posts'):\n",
    "    \"\"\"Follows forum tree links to pull and map posts\"\"\"\n",
    "    if pageType == 'posts':\n",
    "        pageParams = '?filter_order=asc&filter_sort=created'\n",
    "        start = '<!-- BEGIN: display_Topics -->'\n",
    "        end = '<!-- BEGIN: profile_media -->'\n",
    "        #end = '<div class=\"pagenav-container noselect\">'\n",
    "    elif pageType == 'comments':\n",
    "        pageParams = ''\n",
    "        start = '<!-- BEGIN: conversation_userinfo -->'\n",
    "        end = '<div class=\"pagenav-container noselect'\n",
    "        #end = '<!-- END: widget_conversationdisplay -->'\n",
    "        \n",
    "    results = [link+pageParams]\n",
    "    contents = [getRows(link,v=False)]\n",
    "    pages = getPageTotal(contents[0])\n",
    "    page = 2\n",
    "\n",
    "    while page <= pages:\n",
    "        print page,pages\n",
    "        toTry = (\"%s/page%s%s\" % (link,page,pageParams)).replace('//page','/page')\n",
    "        requested = getRows(toTry,v=False)\n",
    "        results.append(toTry)\n",
    "        contents.append(requested)\n",
    "        page += 1\n",
    "    \n",
    "    contents = [getSub(rows,startString=start,endString=end) for rows in contents]\n",
    "    contents = '\\n'.join(['\\n'.join(i) for i in contents]).split('\\n')\n",
    "    contents = prepPosts(rows,pageType=pageType)\n",
    "    return {'results':results,\n",
    "           'contents':contents}"
   ]
  },
  {
   "cell_type": "markdown",
   "metadata": {},
   "source": [
    "## Post data extractor \n"
   ]
  },
  {
   "cell_type": "code",
   "execution_count": 9,
   "metadata": {
    "collapsed": false
   },
   "outputs": [],
   "source": [
    "def pullAll(fluUrl,v=True):\n",
    "    \"\"\"Master command, will pull the full tree\"\"\"\n",
    "    if type(fluUrl) is not dict:\n",
    "        tree = getMainTree(fluUrl,v=v)\n",
    "    else:\n",
    "        tree = deepcopy(fluUrl)\n",
    "    for uppertopic in tree.keys():\n",
    "        for subtopic in tree[uppertopic]['subtopics'].keys():\n",
    "            if tree[uppertopic]['subtopics'][subtopic]['type'] == 'topic':\n",
    "                pulled = tryLinks(tree[uppertopic]['subtopics'][subtopic]['link'])\n",
    "                tree[uppertopic]['subtopics'][subtopic]['posts'] = deepcopy(pulled)\n",
    "    print \"\\n\\nFULL DATA PULL COMPLETED!\"\n",
    "    return tree"
   ]
  },
  {
   "cell_type": "markdown",
   "metadata": {},
   "source": [
    "#Analysis Functions"
   ]
  },
  {
   "cell_type": "markdown",
   "metadata": {},
   "source": [
    "###Tree operations"
   ]
  },
  {
   "cell_type": "code",
   "execution_count": 10,
   "metadata": {
    "collapsed": true
   },
   "outputs": [],
   "source": [
    "def hasOne(terms,body):\n",
    "    \"\"\"Returns true if any of a list of words are found within a string\"\"\"\n",
    "    if type(body) is not str and type(body) is not unicode:\n",
    "        return False\n",
    "    body = body.lower()\n",
    "    return len([term for term in terms if term.lower() in body]) != 0\n",
    "\n",
    "\n",
    "def mapTree(tree,tabs=''):\n",
    "    \"\"\"Provides a brief map of the data contained within a tree\"\"\"\n",
    "    if type(tree) is dict:\n",
    "        iterator = tree.keys()\n",
    "    elif type(tree) is list:\n",
    "        iterator = range(len(tree))\n",
    "    \n",
    "    noShow = ['votes','views','posts','created','updated','sticky',\n",
    "             'line','link','type','creator','author','text','links']\n",
    "    \n",
    "    for i in iterator:\n",
    "        if i not in noShow:\n",
    "            textI = str(i)\n",
    "            print tabs+(textI[:40] + '..') if len(textI) > 40 else textI\n",
    "            checked = tree[i]\n",
    "            if type(tree[i]) in [list,dict]:\n",
    "                mapTree(checked,tabs=tabs+'\\t')\n",
    "\n",
    "            \n",
    "def recSearchTree(tree,terms,refs='',direct=True):\n",
    "    \"\"\"Recursively searches a tree for a given list of terms,\n",
    "    returns list of tree pointers\"\"\"\n",
    "    found = []\n",
    "    if type(terms) is not list:\n",
    "        terms = [terms]\n",
    "    \n",
    "    if type(tree) is dict:\n",
    "        iterator = tree.keys()\n",
    "    elif type(tree) is list:\n",
    "        iterator = range(len(tree))\n",
    "        \n",
    "    for i in iterator:\n",
    "        checked = tree[i]; wrap = '\"'*(type(i) is str)\n",
    "        if type(checked) in [list,dict]:\n",
    "            found += recSearchTree(checked,terms,refs='%s[%s%s%s]' % (refs,wrap,i,wrap))\n",
    "        if (hasOne(terms,checked) or hasOne(terms,i)) == direct:\n",
    "            if i == 'text':\n",
    "                found += [refs]\n",
    "            else:\n",
    "                found += ['%s[%s%s%s]' % (refs,wrap,i,wrap)]            \n",
    "    return sorted(found)\n",
    "\n",
    "\n",
    "def prepOne(sparseTree,path):\n",
    "    \"\"\"Creates missing structures in tree for reference path\"\"\"\n",
    "    flattened = flatKeys = path.split('][')\n",
    "    flattened[0] = flattened[0][1:]\n",
    "    flattened[-1] = flattened[-1][:-1]\n",
    "    for i in range(2,len(flattened)+1):\n",
    "        try:\n",
    "            cmd = 'temp = sparseTree[%s]' % ']['.join(flattened[0:i])\n",
    "            exec(cmd)\n",
    "        except Exception,e: \n",
    "            try:\n",
    "                cmd3 = 'temp = type(sparseTree[%s])' % ']['.join(flattened[0:i-1])\n",
    "                exec(cmd3)\n",
    "            except:\n",
    "                cmd2 = 'sparseTree[%s] = dict()' % ']['.join(flattened[0:i-1])\n",
    "                exec(cmd2)\n",
    "    return sparseTree\n",
    "\n",
    "\n",
    "def getSubTree(tree,searchTerms='null',v=True,direct=True):\n",
    "    \"\"\"Returns a smaller tree of entries including the investigators search terms\"\"\"\n",
    "    newTree = dict()\n",
    "    if type(searchTerms) is str:\n",
    "        searchTerms = [searchTerms]\n",
    "    if searchTerms != 'null':\n",
    "        searchResults = recSearchTree(tree,searchTerms,direct=direct)\n",
    "        print \"%s results found for queries %s\\n\" % (len(searchResults),searchTerms)\n",
    "        for path in searchResults:\n",
    "            newTree = prepOne(newTree,path)\n",
    "            exec(\"newTree%s = deepcopy(tree%s)\" % (path,path))\n",
    "            \n",
    "    if v:\n",
    "        mapTree(newTree)\n",
    "    \n",
    "    return newTree"
   ]
  },
  {
   "cell_type": "markdown",
   "metadata": {},
   "source": [
    "##Time operations"
   ]
  },
  {
   "cell_type": "code",
   "execution_count": 11,
   "metadata": {
    "collapsed": true
   },
   "outputs": [],
   "source": [
    "def getTimes(tree,upKey='null'):\n",
    "    \"\"\"For a given tree or sub tree, returns a list of times categorized by\n",
    "    topic, thread, and reply creation\"\"\"\n",
    "    topicStarts = []\n",
    "    threadStarts = []\n",
    "    threadReplies = []\n",
    "    \n",
    "    if type(tree) is dict:\n",
    "        iterator = tree.keys()\n",
    "    elif type(tree) is list:\n",
    "        iterator = range(len(tree))\n",
    "        \n",
    "    for i in iterator:\n",
    "        checked = tree[i]\n",
    "        if type(checked) in [list,dict]:\n",
    "            returned = getTimes(checked,upKey=i)\n",
    "            topicStarts += returned['topics']\n",
    "            threadStarts += returned['threads']\n",
    "            threadReplies += returned['replies']\n",
    "            \n",
    "        elif 'date' in str(type(checked)) or 'time' in str(type(checked)):\n",
    "            if \"creator\" in iterator:\n",
    "                topicStarts.append(checked)\n",
    "            else:\n",
    "                if upKey == 0:\n",
    "                    threadStarts.append(checked)\n",
    "                else:\n",
    "                    threadReplies.append(checked)\n",
    "    if upKey == 'null':\n",
    "        print \"%s topics, %s new threads, and %s replies found\" % (len(topicStarts),\n",
    "                                                                  len(threadStarts),\n",
    "                                                                  len(threadReplies))\n",
    "    return {'topics':topicStarts,\n",
    "            'threads':threadStarts,\n",
    "            'replies':threadReplies}\n",
    "\n",
    "\n",
    "def trimRange(collected,start,end):\n",
    "    \"\"\"Trim date range by plain text times\"\"\"\n",
    "    if type(start) is str:\n",
    "        start = parser.parse(start)\n",
    "    if type(end) is str:\n",
    "        end = parser.parse(end)\n",
    "    if start > end:\n",
    "        start,end = end,start\n",
    "    holder = deepcopy(collected)\n",
    "    for key in collected.keys():\n",
    "        collected[key] = [entry for entry in collected[key] if entry > start and entry < end]\n",
    "    return collected"
   ]
  },
  {
   "cell_type": "markdown",
   "metadata": {},
   "source": [
    "##Visualizations"
   ]
  },
  {
   "cell_type": "code",
   "execution_count": 12,
   "metadata": {
    "collapsed": true
   },
   "outputs": [],
   "source": [
    "def timePlot(times,bigTitle,timeShift=0,divFactor=24,overlay = True, show = True):\n",
    "    \"\"\" draw the histogram of activity by date distribution \"\"\"\n",
    "    ax = plt.figure(figsize=(11,5)).gca()\n",
    "    merged = []\n",
    "    prepped = [] \n",
    "    \n",
    "    if type(times) is dict:\n",
    "        dataIn = times.values()\n",
    "        titles = times.keys()\n",
    "        \n",
    "    else:\n",
    "        dataIn = times\n",
    "        titles = 'Posts'\n",
    "    \n",
    "    for ytime in dataIn:\n",
    "        numtime = [date2num(t) for t in list(ytime)] \n",
    "        merged += numtime\n",
    "        prepped.append(numtime)\n",
    "        \n",
    "    first = num2date(min(merged))\n",
    "    last = num2date(max(merged))\n",
    "    \n",
    "    hour = timedelta(hours=1) \n",
    "    minute = timedelta(minutes=1)\n",
    "    \n",
    "    firstRounded = first.replace(second=0,minute=0)\n",
    "    lastRounded = last.replace(second=0,minute=0) + hour\n",
    "    plotMin = date2num(firstRounded)\n",
    "    plotMax = date2num(lastRounded)\n",
    "    dateFirst = first.strftime(\"%a %m/%d/%y\")\n",
    "    dateLast = last.strftime(\"%a %m/%d/%y\")\n",
    "    timeSuffix = \" from %s to %s\" % (dateFirst,dateLast)\n",
    "    \n",
    "    difference = (lastRounded-firstRounded)\n",
    "    hourBlocks = difference.days*24 + difference.seconds//3600\n",
    "    if hourBlocks%2 != 0:\n",
    "        plotMax = date2num(lastRounded + hour)\n",
    "        hourBlocks += 1\n",
    "\n",
    "    while (hourBlocks/divFactor) <= 1 and divFactor > 1:\n",
    "        divFactor = divFactor/4\n",
    "    \n",
    "    plotTitle = titles[0]\n",
    "    for i in range(len(prepped)):\n",
    "        if overlay:\n",
    "            numtime = prepped[i]\n",
    "            _, _, patches = plt.hist(numtime, bins=(hourBlocks)/divFactor, alpha=0.5, \n",
    "                                    stacked=False, range=(plotMin,plotMax))\n",
    "    if not overlay:\n",
    "        _, _, patches = plt.hist(prepped, bins=(hourBlocks)/divFactor, alpha=0.5, \n",
    "                                    stacked=True, range=(plotMin,plotMax))\n",
    "    \n",
    "    plt.xlabel(\"Date/time (GMT %s)\" % timeShift)\n",
    "    plt.gca().set_xlim([plotMin,plotMax])\n",
    "    plt.ylabel(\"Activity\")\n",
    "    plt.legend(titles,\"best\")\n",
    "    plt.title(bigTitle+timeSuffix,size=16)\n",
    "    ax.xaxis.set_major_formatter(DateFormatter('%m/%d/%y'))\n",
    "    \n",
    "    plt.show()\n",
    "    return plt\n",
    "\n",
    "\n",
    "def plotLastYear(tree,terms,title):\n",
    "    \"\"\"Quickly plot a year of data for a given terms list\"\"\"\n",
    "    hoursInWeek = 168\n",
    "    sub = getSubTree(tree,searchTerms=terms,v=False)\n",
    "    times = getTimes(sub)\n",
    "    rightNow = datetime.now()\n",
    "    lastYear = datetime.now() - timedelta(days=365)\n",
    "    recent = trimRange(times,rightNow,lastYear)\n",
    "    timePlot(recent,title,divFactor=hoursInWeek,overlay=False)"
   ]
  },
  {
   "cell_type": "code",
   "execution_count": 13,
   "metadata": {
    "collapsed": false
   },
   "outputs": [],
   "source": [
    "def isInt(text):\n",
    "    \"\"\"Returns true if number is an integer\"\"\"\n",
    "    try:\n",
    "        int(text.strip())\n",
    "        return True\n",
    "    except:\n",
    "        return False\n",
    "\n",
    "def findSplit(row,listed,orient):\n",
    "    \"\"\"Returns portion of row aside a marker\"\"\"\n",
    "    if type(listed) is str:\n",
    "        listed = [listed]\n",
    "    keepKey = {'left':0,'right':1}[orient]\n",
    "    for entry in listed:\n",
    "        splitRow = row.lower().split(entry.lower())\n",
    "        if len(splitRow) != 1:\n",
    "            return splitRow[keepKey]\n",
    "    return row\n",
    "        \n",
    "def getBetween(row,start='null',end='null'):\n",
    "    \"\"\"Returns portion of row between two markers\"\"\"\n",
    "    success = True\n",
    "    if start != 'null':\n",
    "        row = findSplit(row,start,'right')\n",
    "    if end != 'null':\n",
    "        row = findSplit(row,end,'left')\n",
    "    return row"
   ]
  },
  {
   "cell_type": "markdown",
   "metadata": {},
   "source": [
    "##Line listing parsers"
   ]
  },
  {
   "cell_type": "code",
   "execution_count": 14,
   "metadata": {
    "collapsed": false
   },
   "outputs": [],
   "source": [
    "def getCaseAge(row):\n",
    "    \"\"\"Finds age of case\"\"\"\n",
    "    caseAge = int(row.lower().split('man,')[1].split(',')[0].strip())\n",
    "    return caseAge\n",
    "    \n",
    "def getCaseGender(row):\n",
    "    \"\"\"Finds gender of case\"\"\"\n",
    "    return {True:'female',False:'male'}['woman' in row.split('</a>')[1][0:15].lower()]\n",
    "    \n",
    "def getCaseIndex(row):\n",
    "    \"\"\"Finds index of case\"\"\"\n",
    "    return int(row.split('>#')[1].split('<')[0])\n",
    "\n",
    "def getCaseDeath(row):\n",
    "    \"\"\"Determines death of case\"\"\"\n",
    "    return '<b><font color=\"Red\">Death</font></b>' in row\n",
    "\n",
    "\n",
    "def getCaseSymptomTime(row):\n",
    "    \"\"\"Gets date of symptomatic phase\"\"\"\n",
    "    symptomStrings = ['onset date',\n",
    "                      'became ill on',\n",
    "                      'of symptoms']\n",
    "    dateChunk = getBetween(row,start=symptomStrings,end=']')\n",
    "    return parser.parse(dateChunk.replace('[',''))\n",
    "    \n",
    "def getCaseHospitalTime(row):\n",
    "    \"\"\"Gets date of hospitalization\"\"\"\n",
    "    hospitalStrings = ['hospitalized on'\n",
    "                     'hospitalized']\n",
    "    dateChunk = getBetween(row,start=hospitalStrings,end=']')\n",
    "    return parser.parse(dateChunk.replace('[',''))\n",
    "                      \n",
    "def getCaseDeathTime(row):\n",
    "    \"\"\"Gets date of death\"\"\"\n",
    "    deathStrings = ['deceased',\n",
    "                   'passed away',\n",
    "                   'died']\n",
    "    dateChunk = getBetween(row,start=deathStrings,end=']')\n",
    "    return parser.parse(dateChunk.replace('[',''))\n",
    "\n",
    "def pickOne(row,options):\n",
    "    \"\"\"Returns first entry it finds in options\"\"\"\n",
    "    row = row.lower().replace(',',' ').replace('<',' ')\n",
    "    for category in options:\n",
    "        for item in category:\n",
    "            if (' %s ' % item.lower()) in row:\n",
    "                return category[0]\n",
    "    return np.nan\n",
    "\n",
    "def pickAll(row,options):\n",
    "    \"\"\"Returns all entries it finds from options\"\"\"\n",
    "    found = []\n",
    "    row = row.lower().replace(',',' ').replace('<',' ')\n",
    "    for item in options:\n",
    "        if type(item) is str:\n",
    "            item = [item]\n",
    "        for i in item:\n",
    "            if (' %s ' % i.lower()) in row:\n",
    "                found.append(item[0])\n",
    "    if found == []:\n",
    "        return 'none'\n",
    "    return ', '.join(sorted(found))\n",
    "\n",
    "\n",
    "def hasAny(row,options):\n",
    "    \"\"\"Returns true if any options are found\"\"\"\n",
    "    return pickOne(row,options) != np.nan"
   ]
  },
  {
   "cell_type": "markdown",
   "metadata": {},
   "source": [
    "##DataFrame constructor"
   ]
  },
  {
   "cell_type": "code",
   "execution_count": 15,
   "metadata": {
    "collapsed": true
   },
   "outputs": [],
   "source": [
    "def caseLinesToDf(rows,categories={},lists={}):\n",
    "    \"\"\"Creates df from line listing\"\"\"\n",
    "    df = pd.DataFrame()\n",
    "    \n",
    "    def tryIt(fx,rows):\n",
    "        derived = []\n",
    "        for row in rows:\n",
    "            try:\n",
    "                derived.append(fx(row))\n",
    "            except:\n",
    "                derived.append(np.nan)\n",
    "        return derived\n",
    "    \n",
    "    for cat,options in categories.iteritems():\n",
    "        df[cat] = [pickOne(row,options) for row in rows]\n",
    "    df['gender'] = tryIt(getCaseGender,rows)\n",
    "    df['age'] = tryIt(getCaseAge,rows)\n",
    "    df['died'] = tryIt(getCaseDeath,rows)\n",
    "    df['tSymptomatic'] = tryIt(getCaseSymptomTime,rows)\n",
    "    df['tHospital'] = tryIt(getCaseHospitalTime,rows)\n",
    "    df['tDeath'] = tryIt(getCaseDeathTime,rows)\n",
    "    for cat,options in lists.iteritems():\n",
    "        df[cat] = [pickAll(row,options) for row in rows]\n",
    "    df['caseIndex'] = tryIt(getCaseIndex,rows)\n",
    "    df['links'] = getTextLinks(rows)\n",
    "    #df['report'] = [cleanText([row]) for row in rows]\n",
    "    return df"
   ]
  },
  {
   "cell_type": "markdown",
   "metadata": {},
   "source": [
    "#Demo Plot Source"
   ]
  },
  {
   "cell_type": "code",
   "execution_count": 35,
   "metadata": {
    "collapsed": false
   },
   "outputs": [],
   "source": [
    "def makeHists(stats,labels,title,i=10):\n",
    "    \"\"\"Creates overlapping histograms\"\"\"\n",
    "    fig = plt.figure(figsize=(9,5))\n",
    "    plt.hist(stats, i)\n",
    "    plt.xlabel('Age')\n",
    "    plt.ylabel('Count')\n",
    "    plt.title(title)\n",
    "    plt.legend(labels)\n",
    "    plt.show()\n",
    "    \n",
    "def joinCompound(stats,sep=', ',cleanUp=True):\n",
    "    \"\"\"Separates compound data fields\"\"\"\n",
    "    if cleanUp:\n",
    "        stats = [entry for entry in stats if entry != np.nan]\n",
    "    if type(stats[0]) is str:\n",
    "        stats = [item.split(', ') for item in stats]\n",
    "    if cleanUp:\n",
    "        stats = list(it.chain(*stats))\n",
    "    return stats\n",
    "    \n",
    "\n",
    "def plotCol(stats,title,threshold=5,hide={'none',np.nan},compound=False):\n",
    "    \"\"\"Plots bar graphs by a column\"\"\"\n",
    "    plt.figure(figsize=(9,5))\n",
    "    if compound:\n",
    "        stats = joinCompound(stats)\n",
    "    count = dict(cl.Counter(stats))\n",
    "    newDict = {'other':0}\n",
    "    for key,value in count.iteritems():\n",
    "        if key in hide:\n",
    "            None\n",
    "        elif value<=threshold:\n",
    "            newDict['other']+=value\n",
    "        else:\n",
    "            newDict[key] = value\n",
    "    if newDict['other'] == 0:\n",
    "        del newDict['other']\n",
    "    index = range(0,len(newDict.keys()))\n",
    "    outKeys = sorted(newDict, key=newDict.get, reverse=True)\n",
    "    outVals = sorted(newDict.values(),reverse=True)\n",
    "    \n",
    "    plt.bar(index,outVals)\n",
    "    plt.xticks(index,outKeys,rotation='vertical')\n",
    "    plt.ylabel('number')\n",
    "    completed = float(sum(newDict.values()))/sum(count.values())\n",
    "    plt.title(\"%s from %s%% of Entries Completed\" % (title,int(100*completed)))\n",
    "    plt.show()\n",
    "    \n",
    "def getSorter(stats,compound=False,threshold=5,hide={'none',np.nan}):\n",
    "    \"\"\"Creates sorting dictionary for abbreviating dataframes\"\"\"\n",
    "    sorter = {'none':'none'}; counts = {'other':0}\n",
    "    if type(stats[0]) is list:\n",
    "        stats = list(it.chain(*stats))\n",
    "    count = dict(cl.Counter(stats))\n",
    "    for key,value in count.iteritems():\n",
    "        if key in hide:\n",
    "            None\n",
    "        elif value<=threshold:\n",
    "            sorter[key] = 'other'\n",
    "            counts['other'] += value\n",
    "        else:\n",
    "            sorter[key] = key\n",
    "            counts[key] = value\n",
    "    outKeys = sorted(counts, key=counts.get, reverse=True)\n",
    "    outVals = sorted(counts.values(),reverse=True)\n",
    "\n",
    "    return sorter,outKeys,outVals\n",
    "\n",
    "def getKey(sorter,attempt):\n",
    "    \"\"\"Returns none str if key not found\"\"\"\n",
    "    try:\n",
    "        return sorter[attempt]\n",
    "    except:\n",
    "        return 'none'\n",
    "\n",
    "def fillCatDf(dataDf,sorterX,sorterY,indexX,indexY,featX,featY):\n",
    "    \"\"\"Parses line listing into count of hits by two columns\"\"\"\n",
    "    catDf = pd.DataFrame(0,index=indexX+['none'],columns=indexY+['none'])\n",
    "    for line,row in dataDf.iterrows():\n",
    "        xItem = row[featX]\n",
    "        yItem = row[featY]\n",
    "        if type(xItem) is not list:\n",
    "            xItem = [xItem]\n",
    "        if type(yItem) is not list:\n",
    "            yItem = [yItem]\n",
    "        for i in xItem:\n",
    "            for j in yItem:\n",
    "                keyI = getKey(sorterX,i)\n",
    "                keyJ = getKey(sorterY,j)\n",
    "                catDf[keyJ][keyI] +=1.\n",
    "    return catDf\n",
    "            \n",
    "def weightDfBySum(data):\n",
    "    \"\"\"Creates new df weighting columns by percentage of sum of entry\"\"\"\n",
    "    colsOut = list(data.columns)[:-1] \n",
    "    indexOut = list(data.index)[:-1]\n",
    "    newDf = pd.DataFrame(0.0,columns=colsOut,index=indexOut)\n",
    "    for i in colsOut:\n",
    "        colSum = sum(list(data[i]))\n",
    "        if colSum !=0:\n",
    "            for j in indexOut:\n",
    "                newDf[i][j] = float(data[i][j])/colSum\n",
    "    return newDf\n",
    "\n",
    "def plotMortalityByFeatures(dataIn,featX,featY,compound=False,\n",
    "                            death='died',threshold=5,hide={'none',np.nan}):\n",
    "    \"\"\"Plots mortality by x column and y column features\"\"\"\n",
    "                                  \n",
    "    dataDf = deepcopy(dataIn)\n",
    "    dataDf = dataDf[pd.notnull(dataDf[death])]\n",
    "    deathsDf = dataDf[dataDf[death] == True]\n",
    "                                  \n",
    "    if compound:\n",
    "        dataDf[featX] = joinCompound(dataDf[featX],cleanUp=False)\n",
    "        dataDf[featY] = joinCompound(dataDf[featY],cleanUp=False)\n",
    "                                  \n",
    "    sorterX,indexX,temp = getSorter(list(dataDf[featX]),threshold=threshold,hide=hide)\n",
    "    sorterY,indexY,temp = getSorter(list(dataDf[featY]),threshold=threshold,hide=hide)\n",
    "    \n",
    "    allMapDf = fillCatDf(dataDf,sorterX,sorterY,indexX,indexY,featX,featY)\n",
    "    diedMapDf = fillCatDf(deathsDf,sorterX,sorterY,indexX,indexY,featX,featY)\n",
    "    weightedDf = weightDfBySum(allMapDf)\n",
    "    \n",
    "    plt.figure(figsize=(8,6))\n",
    "    plt.pcolor(weightedDf,cmap='YlOrRd')\n",
    "    plt.yticks(np.arange(0.5, len(weightedDf.index), 1), weightedDf.index)\n",
    "    plt.xticks(np.arange(0.5, len(weightedDf.columns), 1), weightedDf.columns,rotation='vertical')\n",
    "    plt.title(\"Frequency of %s by %s\" % (featX,featY))\n",
    "    cbar = plt.colorbar()\n",
    "    plt.show()\n",
    "    plt.close()\n",
    "    \n",
    "    survivalDf = diedMapDf/allMapDf\n",
    "    survTemp = survivalDf.fillna(1.15)\n",
    "  \n",
    "    \n",
    "    plt.figure(figsize=(8,6))\n",
    "    plt.pcolor(survTemp,cmap='YlOrRd')\n",
    "    plt.yticks(np.arange(0.5, len(survivalDf.index), 1), survivalDf.index)\n",
    "    plt.xticks(np.arange(0.5, len(survivalDf.columns), 1), survivalDf.columns,rotation='vertical')\n",
    "    plt.title(\"Mortality by %s and %s\" % (featX,featY))\n",
    "    cbar = plt.colorbar()\n",
    "    plt.show()\n",
    "    \n",
    "    return"
   ]
  },
  {
   "cell_type": "markdown",
   "metadata": {},
   "source": [
    "#Demo Usage:"
   ]
  },
  {
   "cell_type": "markdown",
   "metadata": {},
   "source": [
    "###Pull data and save to disc"
   ]
  },
  {
   "cell_type": "code",
   "execution_count": 17,
   "metadata": {
    "collapsed": false
   },
   "outputs": [],
   "source": [
    "#link = 'https://flutrackers.com/forum/forum/novel-coronavirus-ncov-mers-2012-2014'\n",
    "#fullTree = pullAll(link,v=True) \n",
    "\n",
    "##Save pulled data, comment out 1/0 if ready to execute\n",
    "#pickleFile = 'MERSData.pickle'\n",
    "#outFile = open(pickleFile,'wb+')\n",
    "#cPickle.dump(fullTree,outFile,protocol=2)\n",
    "#outFile.close()"
   ]
  },
  {
   "cell_type": "markdown",
   "metadata": {},
   "source": [
    "###Load data from disc"
   ]
  },
  {
   "cell_type": "code",
   "execution_count": 18,
   "metadata": {
    "collapsed": false
   },
   "outputs": [],
   "source": [
    "#Loading the saved data file\n",
    "pickleFile = 'MERSData.pickle'\n",
    "inFile = open(pickleFile,'rb')\n",
    "fullTree = cPickle.load(inFile)\n",
    "inFile.close()"
   ]
  },
  {
   "cell_type": "code",
   "execution_count": 19,
   "metadata": {
    "collapsed": false
   },
   "outputs": [
    {
     "name": "stdout",
     "output_type": "stream",
     "text": [
      "416 topics, 208 new threads, and 370 replies found\n"
     ]
    },
    {
     "data": {
      "image/png": "[encoded data removed]",
      "text/plain": [
       "<matplotlib.figure.Figure at 0x7f0f17373d90>"
      ]
     },
     "metadata": {},
     "output_type": "display_data"
    },
    {
     "data": {
      "text/plain": [
       "<module 'matplotlib.pyplot' from '/usr/lib/pymodules/python2.7/matplotlib/pyplot.pyc'>"
      ]
     },
     "execution_count": 19,
     "metadata": {},
     "output_type": "execute_result"
    }
   ],
   "source": [
    "hoursInMonth = 730\n",
    "hoursInWeek = 168\n",
    "\n",
    "coronaTimes = getTimes(fullTree)\n",
    "lastYearCorona = trimRange(coronaTimes,'December 1st, 2012','December 1st, 2015')\n",
    "timePlot(coronaTimes,'Mers Activity',divFactor=hoursInWeek,overlay=False)"
   ]
  },
  {
   "cell_type": "markdown",
   "metadata": {},
   "source": [
    "###Pulling country list"
   ]
  },
  {
   "cell_type": "code",
   "execution_count": 20,
   "metadata": {
    "collapsed": false
   },
   "outputs": [
    {
     "name": "stdout",
     "output_type": "stream",
     "text": [
      "[['algeria'], ['austria'], ['bangladesh'], ['china'], ['egypt'], ['france'], ['germany'], ['greece'], ['indonesia'], ['iran'], ['jordan'], ['kuwait'], ['lebanon'], ['malaysia'], ['netherlands'], ['oman'], ['philippines'], ['qatar'], ['saudi arabia'], ['south korea'], ['tunisia'], ['turkey'], ['united kingdom', 'uk'], ['united states'], ['yemen']]\n"
     ]
    }
   ],
   "source": [
    "countries = [item.split(' - ')[0].lower() for item in fullTree.keys() if ' - coronavirus' in item]\n",
    "countries = sorted(countries)\n",
    "addAcronyms = lambda x: [item.strip() for item in x.replace(')','').split('(')]\n",
    "countries = [addAcronyms(item) for item in countries]\n",
    "    \n",
    "print countries"
   ]
  },
  {
   "cell_type": "markdown",
   "metadata": {},
   "source": [
    "###Organizing manually curated topic lists"
   ]
  },
  {
   "cell_type": "code",
   "execution_count": 21,
   "metadata": {
    "collapsed": false
   },
   "outputs": [],
   "source": [
    "#Lists manually curated from cases 1-500\n",
    "symptomList = ['anemia', 'asthma', 'asymptomatic', 'bronchitis', 'critical condition', 'diarrhea', 'fever', 'flu symptoms', 'hypertension', 'inflammation of the urethra', 'influenza-like illness', 'kidney failure', 'lung problems', 'pneumonia', 'pneumonia,', 'respiratory', 'shortness of breath', 'vomit']\n",
    "interventionList = ['artificial respiratory system', 'icu', 'intensive care', 'respirator', 'ventillate']\n",
    "comorbidityList = ['asthma', 'cancer', 'chronic disease', 'chronic heart', 'chronic illness', 'chronic lung', 'coexisting medical condition', 'coexisting medical conditions', 'comorbidity', 'diabetes', 'health problems', 'heart disease', 'high blood pressure', 'liver failure', ['multiple comorbidities','comorbidities'], 'nephritic syndrome', 'underlying']\n",
    "exposureList = ['brother of', 'camel', 'camel market', 'camel milk', 'case', 'cluster', 'co-worker', 'contact of previous', 'contact with camels', 'doctor', 'family contact', 'father of', 'health care worker', 'husband of', 'other animal', 'owns a farm', 'roomate of', 'sister of', 'son of', 'travel to UAE', 'travel to saudi arabia', 'wife of']"
   ]
  },
  {
   "cell_type": "code",
   "execution_count": 22,
   "metadata": {
    "collapsed": false
   },
   "outputs": [],
   "source": [
    "epiCategories = {'country':countries}\n",
    "epiLists = {'symptoms':symptomList,\n",
    "        'interventions':interventionList,\n",
    "        'comorbidities':comorbidityList,\n",
    "        'exposures':exposureList}"
   ]
  },
  {
   "cell_type": "markdown",
   "metadata": {},
   "source": [
    "###Parsing the case list to a dataframe\n",
    "https://flutrackers.com/forum/forum/novel-coronavirus-ncov-mers-2012-2014/146270-2012-2015-case-list-of-moh-who-novel-coronavirus-mers-ncov-announced-cases"
   ]
  },
  {
   "cell_type": "code",
   "execution_count": 23,
   "metadata": {
    "collapsed": false
   },
   "outputs": [
    {
     "name": "stdout",
     "output_type": "stream",
     "text": [
      "1495 total entries read\n"
     ]
    }
   ],
   "source": [
    "listLink = 'https://flutrackers.com/forum/forum/novel-coronavirus-ncov-mers-2012-2014/146270-2012-2015-case-list-of-moh-who-novel-coronavirus-mers-ncov-announced-cases'\n",
    "listLines = getRows(listLink,startString='2012 cases',endString='total case count',pad=3,v=False)\n",
    "caseLines = getLinesContent(listLines,'target=\"_blank\">#')\n",
    "caseDf = caseLinesToDf(caseLines,categories=epiCategories,lists=epiLists)\n",
    "print \"%s total entries read\" % len(caseDf)"
   ]
  },
  {
   "cell_type": "code",
   "execution_count": 24,
   "metadata": {
    "collapsed": false
   },
   "outputs": [
    {
     "data": {
      "text/html": [
       "<div>\n",
       "<table border=\"1\" class=\"dataframe\">\n",
       "  <thead>\n",
       "    <tr style=\"text-align: right;\">\n",
       "      <th></th>\n",
       "      <th>country</th>\n",
       "      <th>gender</th>\n",
       "      <th>age</th>\n",
       "      <th>died</th>\n",
       "      <th>tSymptomatic</th>\n",
       "      <th>tHospital</th>\n",
       "      <th>tDeath</th>\n",
       "      <th>symptoms</th>\n",
       "      <th>comorbidities</th>\n",
       "      <th>exposures</th>\n",
       "      <th>interventions</th>\n",
       "      <th>caseIndex</th>\n",
       "      <th>links</th>\n",
       "    </tr>\n",
       "  </thead>\n",
       "  <tbody>\n",
       "    <tr>\n",
       "      <th>0</th>\n",
       "      <td>jordan</td>\n",
       "      <td>female</td>\n",
       "      <td>45</td>\n",
       "      <td>False</td>\n",
       "      <td>NaN</td>\n",
       "      <td>NaN</td>\n",
       "      <td>NaN</td>\n",
       "      <td>none</td>\n",
       "      <td>none</td>\n",
       "      <td>health care worker</td>\n",
       "      <td>none</td>\n",
       "      <td>1</td>\n",
       "      <td>http://www.flutrackers.com/forum/showpost.php?...</td>\n",
       "    </tr>\n",
       "    <tr>\n",
       "      <th>1</th>\n",
       "      <td>jordan</td>\n",
       "      <td>male</td>\n",
       "      <td>25</td>\n",
       "      <td>False</td>\n",
       "      <td>NaN</td>\n",
       "      <td>NaN</td>\n",
       "      <td>NaN</td>\n",
       "      <td>none</td>\n",
       "      <td>none</td>\n",
       "      <td>none</td>\n",
       "      <td>none</td>\n",
       "      <td>2</td>\n",
       "      <td>http://www.flutrackers.com/forum/showpost.php?...</td>\n",
       "    </tr>\n",
       "    <tr>\n",
       "      <th>2</th>\n",
       "      <td>saudi arabia</td>\n",
       "      <td>male</td>\n",
       "      <td>60</td>\n",
       "      <td>False</td>\n",
       "      <td>NaN</td>\n",
       "      <td>NaN</td>\n",
       "      <td>NaN</td>\n",
       "      <td>none</td>\n",
       "      <td>none</td>\n",
       "      <td>none</td>\n",
       "      <td>none</td>\n",
       "      <td>3</td>\n",
       "      <td>http://www.who.int/csr/don/2012_09_25/en/</td>\n",
       "    </tr>\n",
       "    <tr>\n",
       "      <th>3</th>\n",
       "      <td>qatar</td>\n",
       "      <td>male</td>\n",
       "      <td>49</td>\n",
       "      <td>False</td>\n",
       "      <td>NaN</td>\n",
       "      <td>NaN</td>\n",
       "      <td>NaN</td>\n",
       "      <td>none</td>\n",
       "      <td>none</td>\n",
       "      <td>none</td>\n",
       "      <td>none</td>\n",
       "      <td>4</td>\n",
       "      <td>http://www.who.int/csr/don/2012_09_23/en/</td>\n",
       "    </tr>\n",
       "    <tr>\n",
       "      <th>4</th>\n",
       "      <td>saudi arabia</td>\n",
       "      <td>male</td>\n",
       "      <td>NaN</td>\n",
       "      <td>False</td>\n",
       "      <td>NaN</td>\n",
       "      <td>NaN</td>\n",
       "      <td>NaN</td>\n",
       "      <td>none</td>\n",
       "      <td>none</td>\n",
       "      <td>none</td>\n",
       "      <td>none</td>\n",
       "      <td>5</td>\n",
       "      <td>http://www.promedmail.org/direct.php?id=201211...</td>\n",
       "    </tr>\n",
       "    <tr>\n",
       "      <th>5</th>\n",
       "      <td>qatar</td>\n",
       "      <td>male</td>\n",
       "      <td>45</td>\n",
       "      <td>False</td>\n",
       "      <td>NaN</td>\n",
       "      <td>NaN</td>\n",
       "      <td>NaN</td>\n",
       "      <td>none</td>\n",
       "      <td>none</td>\n",
       "      <td>none</td>\n",
       "      <td>none</td>\n",
       "      <td>6</td>\n",
       "      <td>http://www.who.int/csr/don/2012_11_23/en/</td>\n",
       "    </tr>\n",
       "    <tr>\n",
       "      <th>6</th>\n",
       "      <td>saudi arabia</td>\n",
       "      <td>male</td>\n",
       "      <td>NaN</td>\n",
       "      <td>False</td>\n",
       "      <td>NaN</td>\n",
       "      <td>NaN</td>\n",
       "      <td>NaN</td>\n",
       "      <td>none</td>\n",
       "      <td>none</td>\n",
       "      <td>none</td>\n",
       "      <td>none</td>\n",
       "      <td>7</td>\n",
       "      <td>http://www.promedmail.org/direct.php?id=201211...</td>\n",
       "    </tr>\n",
       "    <tr>\n",
       "      <th>7</th>\n",
       "      <td>saudi arabia</td>\n",
       "      <td>male</td>\n",
       "      <td>NaN</td>\n",
       "      <td>False</td>\n",
       "      <td>NaN</td>\n",
       "      <td>NaN</td>\n",
       "      <td>NaN</td>\n",
       "      <td>none</td>\n",
       "      <td>none</td>\n",
       "      <td>none</td>\n",
       "      <td>none</td>\n",
       "      <td>8</td>\n",
       "      <td>http://www.who.int/csr/don/2012_11_23/en/</td>\n",
       "    </tr>\n",
       "    <tr>\n",
       "      <th>8</th>\n",
       "      <td>saudi arabia</td>\n",
       "      <td>male</td>\n",
       "      <td>NaN</td>\n",
       "      <td>False</td>\n",
       "      <td>NaN</td>\n",
       "      <td>NaN</td>\n",
       "      <td>NaN</td>\n",
       "      <td>none</td>\n",
       "      <td>none</td>\n",
       "      <td>none</td>\n",
       "      <td>none</td>\n",
       "      <td>9</td>\n",
       "      <td>http://www.who.int/csr/don/2012_11_30/en/</td>\n",
       "    </tr>\n",
       "    <tr>\n",
       "      <th>9</th>\n",
       "      <td>saudi arabia</td>\n",
       "      <td>male</td>\n",
       "      <td>60</td>\n",
       "      <td>False</td>\n",
       "      <td>NaN</td>\n",
       "      <td>NaN</td>\n",
       "      <td>NaN</td>\n",
       "      <td>none</td>\n",
       "      <td>none</td>\n",
       "      <td>none</td>\n",
       "      <td>icu</td>\n",
       "      <td>10</td>\n",
       "      <td>http://www.who.int/csr/don/2013_02_11b/en/</td>\n",
       "    </tr>\n",
       "    <tr>\n",
       "      <th>10</th>\n",
       "      <td>united kingdom</td>\n",
       "      <td>male</td>\n",
       "      <td>38</td>\n",
       "      <td>False</td>\n",
       "      <td>NaN</td>\n",
       "      <td>NaN</td>\n",
       "      <td>NaN</td>\n",
       "      <td>none</td>\n",
       "      <td>multiple comorbidities</td>\n",
       "      <td>case, son of</td>\n",
       "      <td>none</td>\n",
       "      <td>11</td>\n",
       "      <td>http://www.who.int/csr/don/2013_02_13/en/</td>\n",
       "    </tr>\n",
       "    <tr>\n",
       "      <th>11</th>\n",
       "      <td>united kingdom</td>\n",
       "      <td>male</td>\n",
       "      <td>NaN</td>\n",
       "      <td>False</td>\n",
       "      <td>NaN</td>\n",
       "      <td>NaN</td>\n",
       "      <td>NaN</td>\n",
       "      <td>influenza-like illness</td>\n",
       "      <td>none</td>\n",
       "      <td>case</td>\n",
       "      <td>none</td>\n",
       "      <td>12</td>\n",
       "      <td>http://www.flutrackers.com/forum/showpost.php?...</td>\n",
       "    </tr>\n",
       "    <tr>\n",
       "      <th>12</th>\n",
       "      <td>saudi arabia</td>\n",
       "      <td>male</td>\n",
       "      <td>NaN</td>\n",
       "      <td>False</td>\n",
       "      <td>NaN</td>\n",
       "      <td>NaN</td>\n",
       "      <td>NaN</td>\n",
       "      <td>none</td>\n",
       "      <td>none</td>\n",
       "      <td>case</td>\n",
       "      <td>none</td>\n",
       "      <td>13</td>\n",
       "      <td>http://www.who.int/csr/don/2013_02_21/en/index...</td>\n",
       "    </tr>\n",
       "    <tr>\n",
       "      <th>13</th>\n",
       "      <td>saudi arabia</td>\n",
       "      <td>male</td>\n",
       "      <td>69</td>\n",
       "      <td>True</td>\n",
       "      <td>NaN</td>\n",
       "      <td>NaN</td>\n",
       "      <td>NaN</td>\n",
       "      <td>none</td>\n",
       "      <td>none</td>\n",
       "      <td>none</td>\n",
       "      <td>none</td>\n",
       "      <td>14</td>\n",
       "      <td>http://flutrackers.com/forum/showthread.php?p=...</td>\n",
       "    </tr>\n",
       "    <tr>\n",
       "      <th>14</th>\n",
       "      <td>saudi arabia</td>\n",
       "      <td>male</td>\n",
       "      <td>NaN</td>\n",
       "      <td>True</td>\n",
       "      <td>NaN</td>\n",
       "      <td>NaN</td>\n",
       "      <td>NaN</td>\n",
       "      <td>none</td>\n",
       "      <td>none</td>\n",
       "      <td>none</td>\n",
       "      <td>none</td>\n",
       "      <td>15</td>\n",
       "      <td>http://www.who.int/csr/don/2013_03_12/en/index...</td>\n",
       "    </tr>\n",
       "  </tbody>\n",
       "</table>\n",
       "</div>"
      ],
      "text/plain": [
       "           country  gender  age   died tSymptomatic  tHospital tDeath  \\\n",
       "0           jordan  female   45  False          NaN        NaN    NaN   \n",
       "1           jordan    male   25  False          NaN        NaN    NaN   \n",
       "2     saudi arabia    male   60  False          NaN        NaN    NaN   \n",
       "3            qatar    male   49  False          NaN        NaN    NaN   \n",
       "4     saudi arabia    male  NaN  False          NaN        NaN    NaN   \n",
       "5            qatar    male   45  False          NaN        NaN    NaN   \n",
       "6     saudi arabia    male  NaN  False          NaN        NaN    NaN   \n",
       "7     saudi arabia    male  NaN  False          NaN        NaN    NaN   \n",
       "8     saudi arabia    male  NaN  False          NaN        NaN    NaN   \n",
       "9     saudi arabia    male   60  False          NaN        NaN    NaN   \n",
       "10  united kingdom    male   38  False          NaN        NaN    NaN   \n",
       "11  united kingdom    male  NaN  False          NaN        NaN    NaN   \n",
       "12    saudi arabia    male  NaN  False          NaN        NaN    NaN   \n",
       "13    saudi arabia    male   69   True          NaN        NaN    NaN   \n",
       "14    saudi arabia    male  NaN   True          NaN        NaN    NaN   \n",
       "\n",
       "                  symptoms           comorbidities           exposures  \\\n",
       "0                     none                    none  health care worker   \n",
       "1                     none                    none                none   \n",
       "2                     none                    none                none   \n",
       "3                     none                    none                none   \n",
       "4                     none                    none                none   \n",
       "5                     none                    none                none   \n",
       "6                     none                    none                none   \n",
       "7                     none                    none                none   \n",
       "8                     none                    none                none   \n",
       "9                     none                    none                none   \n",
       "10                    none  multiple comorbidities        case, son of   \n",
       "11  influenza-like illness                    none                case   \n",
       "12                    none                    none                case   \n",
       "13                    none                    none                none   \n",
       "14                    none                    none                none   \n",
       "\n",
       "   interventions  caseIndex                                              links  \n",
       "0           none          1  http://www.flutrackers.com/forum/showpost.php?...  \n",
       "1           none          2  http://www.flutrackers.com/forum/showpost.php?...  \n",
       "2           none          3          http://www.who.int/csr/don/2012_09_25/en/  \n",
       "3           none          4          http://www.who.int/csr/don/2012_09_23/en/  \n",
       "4           none          5  http://www.promedmail.org/direct.php?id=201211...  \n",
       "5           none          6          http://www.who.int/csr/don/2012_11_23/en/  \n",
       "6           none          7  http://www.promedmail.org/direct.php?id=201211...  \n",
       "7           none          8          http://www.who.int/csr/don/2012_11_23/en/  \n",
       "8           none          9          http://www.who.int/csr/don/2012_11_30/en/  \n",
       "9            icu         10         http://www.who.int/csr/don/2013_02_11b/en/  \n",
       "10          none         11          http://www.who.int/csr/don/2013_02_13/en/  \n",
       "11          none         12  http://www.flutrackers.com/forum/showpost.php?...  \n",
       "12          none         13  http://www.who.int/csr/don/2013_02_21/en/index...  \n",
       "13          none         14  http://flutrackers.com/forum/showthread.php?p=...  \n",
       "14          none         15  http://www.who.int/csr/don/2013_03_12/en/index...  "
      ]
     },
     "execution_count": 24,
     "metadata": {},
     "output_type": "execute_result"
    }
   ],
   "source": [
    "caseDf[0:15]"
   ]
  },
  {
   "cell_type": "markdown",
   "metadata": {},
   "source": [
    "#Epidemiology"
   ]
  },
  {
   "cell_type": "code",
   "execution_count": 25,
   "metadata": {
    "collapsed": false
   },
   "outputs": [
    {
     "data": {
      "image/png": "[encoded data removed]",
      "text/plain": [
       "<matplotlib.figure.Figure at 0x7f0f16818e90>"
      ]
     },
     "metadata": {},
     "output_type": "display_data"
    }
   ],
   "source": [
    "temp = caseDf[pd.notnull(caseDf['age'])]\n",
    "temp = temp[pd.notnull(temp['gender'])]\n",
    "maleCases = list(temp[temp['gender'] == 'male']['age'])\n",
    "femaleCases = list(temp[temp['gender'] == 'female']['age'])\n",
    "\n",
    "makeHists([maleCases,femaleCases],\n",
    "          ['Male Cases','Female Cases'],\n",
    "          \"Distribution of Cases by Age and Gender\")"
   ]
  },
  {
   "cell_type": "code",
   "execution_count": 26,
   "metadata": {
    "collapsed": false
   },
   "outputs": [
    {
     "data": {
      "image/png": "[encoded data removed]",
      "text/plain": [
       "<matplotlib.figure.Figure at 0x7f0f16a14050>"
      ]
     },
     "metadata": {},
     "output_type": "display_data"
    }
   ],
   "source": [
    "plotCol(list(caseDf['country']),'Hospitalized Cases by Country')"
   ]
  },
  {
   "cell_type": "code",
   "execution_count": 27,
   "metadata": {
    "collapsed": false
   },
   "outputs": [
    {
     "data": {
      "image/png": "[encoded data removed]",
      "text/plain": [
       "<matplotlib.figure.Figure at 0x7f0f172b7e90>"
      ]
     },
     "metadata": {},
     "output_type": "display_data"
    }
   ],
   "source": [
    "plotCol(list(caseDf['exposures']),'Recognized Exposures',compound=True)"
   ]
  },
  {
   "cell_type": "markdown",
   "metadata": {},
   "source": [
    "#Clinical symptoms"
   ]
  },
  {
   "cell_type": "code",
   "execution_count": 28,
   "metadata": {
    "collapsed": false
   },
   "outputs": [
    {
     "data": {
      "image/png": "[encoded data removed]",
      "text/plain": [
       "<matplotlib.figure.Figure at 0x7f0f173b1910>"
      ]
     },
     "metadata": {},
     "output_type": "display_data"
    }
   ],
   "source": [
    "plotCol(list(caseDf['symptoms']),'Recognized Symptoms',compound=True)"
   ]
  },
  {
   "cell_type": "markdown",
   "metadata": {},
   "source": [
    "#Impact on Society and Individuals:"
   ]
  },
  {
   "cell_type": "code",
   "execution_count": 29,
   "metadata": {
    "collapsed": false
   },
   "outputs": [
    {
     "data": {
      "image/png": "[encoded data removed]",
      "text/plain": [
       "<matplotlib.figure.Figure at 0x7f0f40f5e910>"
      ]
     },
     "metadata": {},
     "output_type": "display_data"
    },
    {
     "data": {
      "image/png": "[encoded data removed]",
      "text/plain": [
       "<matplotlib.figure.Figure at 0x7f0f17028e10>"
      ]
     },
     "metadata": {},
     "output_type": "display_data"
    }
   ],
   "source": [
    "temp = caseDf[pd.notnull(caseDf['age'])]\n",
    "survivors = list(temp[temp['died'] == False]['age'])\n",
    "deaths = list(temp[temp['died'] == True]['age'])\n",
    "\n",
    "makeHists([survivors,deaths],\n",
    "          ['Recovered','Died'],\n",
    "          \"Distribution of Deaths by Age\")\n",
    "\n",
    "plotCol(list(caseDf['comorbidities']),'Recognized Comorbidities',compound=True)"
   ]
  },
  {
   "cell_type": "code",
   "execution_count": 36,
   "metadata": {
    "collapsed": false
   },
   "outputs": [
    {
     "data": {
      "image/png": "[encoded data removed]",
      "text/plain": [
       "<matplotlib.figure.Figure at 0x7f0f166f8b50>"
      ]
     },
     "metadata": {},
     "output_type": "display_data"
    },
    {
     "data": {
      "image/png": "[encoded data removed]",
      "text/plain": [
       "<matplotlib.figure.Figure at 0x7f0f17272750>"
      ]
     },
     "metadata": {},
     "output_type": "display_data"
    }
   ],
   "source": [
    "plotMortalityByFeatures(caseDf,'symptoms','comorbidities',compound=True)"
   ]
  },
  {
   "cell_type": "code",
   "execution_count": 31,
   "metadata": {
    "collapsed": false
   },
   "outputs": [
    {
     "data": {
      "image/png": "[encoded data removed]",
      "text/plain": [
       "<matplotlib.figure.Figure at 0x7f0f169ff890>"
      ]
     },
     "metadata": {},
     "output_type": "display_data"
    }
   ],
   "source": [
    "plotCol(list(caseDf['interventions']),'Recognized Interventions',compound=True)"
   ]
  },
  {
   "cell_type": "markdown",
   "metadata": {
    "collapsed": true
   },
   "source": [
    "#Works Cited\n",
    " - 2012-2015 Case List of MoH/WHO Novel Coronavirus MERS nCoV Announced Cases. (n.d.). Retrieved November 27th, 2015, from https://flutrackers.com/forum/forum/novel-coronavirus-ncov-mers-2012-2014/146270-2012-2015-case-list-of-moh-who-novel-coronavirus-mers-ncov-announced-cases "
   ]
  },
  {
   "cell_type": "markdown",
   "metadata": {},
   "source": [
    "WhisperCat will be released at https://github.com/jschlitt84 under the GNU General public license when complete."
   ]
  }
 ],
 "metadata": {
  "kernelspec": {
   "display_name": "Python 2",
   "language": "python",
   "name": "python2"
  },
  "language_info": {
   "codemirror_mode": {
    "name": "ipython",
    "version": 2
   },
   "file_extension": ".py",
   "mimetype": "text/x-python",
   "name": "python",
   "nbconvert_exporter": "python",
   "pygments_lexer": "ipython2",
   "version": "2.7.6"
  }
 },
 "nbformat": 4,
 "nbformat_minor": 0
}
